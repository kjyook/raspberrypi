{
 "cells": [
  {
   "cell_type": "markdown",
   "metadata": {},
   "source": [
    "## Display & Joystick의 객체화 및 캐릭터 조종"
   ]
  },
  {
   "cell_type": "markdown",
   "metadata": {},
   "source": [
    "필요한 library import"
   ]
  },
  {
   "cell_type": "code",
   "execution_count": 1,
   "metadata": {},
   "outputs": [],
   "source": [
    "import time\n",
    "import random\n",
    "from colorsys import hsv_to_rgb\n",
    "import board\n",
    "from digitalio import DigitalInOut, Direction\n",
    "from PIL import Image, ImageDraw, ImageFont\n",
    "from adafruit_rgb_display import st7789"
   ]
  },
  {
   "cell_type": "markdown",
   "metadata": {},
   "source": [
    "Joystick이라는 클래스를 만들어, 간단한 모듈화 진행"
   ]
  },
  {
   "cell_type": "code",
   "execution_count": 2,
   "metadata": {},
   "outputs": [],
   "source": [
    "class Joystick:\n",
    "    def __init__(self):\n",
    "        self.cs_pin = DigitalInOut(board.CE0)\n",
    "        self.dc_pin = DigitalInOut(board.D25)\n",
    "        self.reset_pin = DigitalInOut(board.D24)\n",
    "        self.BAUDRATE = 24000000\n",
    "\n",
    "        self.spi = board.SPI()\n",
    "        self.disp = st7789.ST7789(\n",
    "                    self.spi,\n",
    "                    height=240,\n",
    "                    y_offset=80,\n",
    "                    rotation=180,\n",
    "                    cs=self.cs_pin,\n",
    "                    dc=self.dc_pin,\n",
    "                    rst=self.reset_pin,\n",
    "                    baudrate=self.BAUDRATE,\n",
    "                    )\n",
    "\n",
    "        # Input pins:\n",
    "        self.button_A = DigitalInOut(board.D5)\n",
    "        self.button_A.direction = Direction.INPUT\n",
    "\n",
    "        self.button_B = DigitalInOut(board.D6)\n",
    "        self.button_B.direction = Direction.INPUT\n",
    "\n",
    "        self.button_L = DigitalInOut(board.D27)\n",
    "        self.button_L.direction = Direction.INPUT\n",
    "\n",
    "        self.button_R = DigitalInOut(board.D23)\n",
    "        self.button_R.direction = Direction.INPUT\n",
    "\n",
    "        self.button_U = DigitalInOut(board.D17)\n",
    "        self.button_U.direction = Direction.INPUT\n",
    "\n",
    "        self.button_D = DigitalInOut(board.D22)\n",
    "        self.button_D.direction = Direction.INPUT\n",
    "\n",
    "        self.button_C = DigitalInOut(board.D4)\n",
    "        self.button_C.direction = Direction.INPUT\n",
    "\n",
    "        # Turn on the Backlight\n",
    "        self.backlight = DigitalInOut(board.D26)\n",
    "        self.backlight.switch_to_output()\n",
    "        self.backlight.value = True\n",
    "\n",
    "        # Create blank image for drawing.\n",
    "        # Make sure to create image with mode 'RGB' for color.\n",
    "        self.width = self.disp.width\n",
    "        self.height = self.disp.height"
   ]
  },
  {
   "cell_type": "markdown",
   "metadata": {},
   "source": [
    "joystick 객체 선언"
   ]
  },
  {
   "cell_type": "code",
   "execution_count": 3,
   "metadata": {},
   "outputs": [],
   "source": [
    "joystick = Joystick()"
   ]
  },
  {
   "cell_type": "markdown",
   "metadata": {},
   "source": [
    "## Display와 친해지기"
   ]
  },
  {
   "cell_type": "markdown",
   "metadata": {},
   "source": [
    "display 초기화\n",
    "- PIL에서 지원하는 Image를 사용, joystick의 width, height에 맞는 Image 생성 (하나의 도화지를 만들었다고 생각)"
   ]
  },
  {
   "cell_type": "code",
   "execution_count": 4,
   "metadata": {},
   "outputs": [],
   "source": [
    "my_image = Image.new(\"RGB\", (joystick.width, joystick.height))"
   ]
  },
  {
   "cell_type": "markdown",
   "metadata": {},
   "source": [
    "만들어진 도화지에 그림을 그리기 위한 도구 선언\n",
    "- ImageDraw의 Draw함수를 통해 우리가 선언했던 my_image에 그림을 그리는 도구인 my_draw를 선언"
   ]
  },
  {
   "cell_type": "code",
   "execution_count": 5,
   "metadata": {},
   "outputs": [],
   "source": [
    "my_draw = ImageDraw.Draw(my_image)"
   ]
  },
  {
   "cell_type": "markdown",
   "metadata": {},
   "source": [
    "선언된 my_draw를 이용해 rectangle을 도화지에 그려보기\n",
    "- rectangle((사각형의 왼쪽 위 꼭짓점 위치x1 y1, 사각형의 오른쪽 아래 꼭짓점 위치x2 y2)\n",
    ", fill = (R, G, B, A))\n",
    "- A는 알파 값으로 0~ 100의 값을 갖고, 투명하게 만들건지 아닌지를 결정함 (0 -> 투명 ~ 100 -> 불투명)"
   ]
  },
  {
   "cell_type": "code",
   "execution_count": 6,
   "metadata": {},
   "outputs": [],
   "source": [
    "my_draw.rectangle((0, 0, joystick.width, joystick.height), fill=(255, 0, 0, 100))"
   ]
  },
  {
   "cell_type": "markdown",
   "metadata": {},
   "source": [
    "빨간색 rectangle을 (0, 0)에서부터 width, height를 꽉 차도록 그린 도화지를 display에 띄우기\n",
    "- 꼭 fill을 (255, 0, 0, 100) 으로 하지 않아도 되고, 원하는 색으로 해보세요!"
   ]
  },
  {
   "cell_type": "code",
   "execution_count": 7,
   "metadata": {},
   "outputs": [],
   "source": [
    "joystick.disp.image(my_image)"
   ]
  },
  {
   "cell_type": "markdown",
   "metadata": {},
   "source": [
    "캐릭터를 만들기 전, 하얀색 배경을 만들고 화면에 띄워보고, 캐릭터가 될 동그라미 그려보기"
   ]
  },
  {
   "cell_type": "code",
   "execution_count": 8,
   "metadata": {},
   "outputs": [],
   "source": [
    "my_draw.rectangle((0, 0, joystick.width, joystick.height), fill = (255, 255, 255, 100))\n",
    "my_draw.ellipse((100, 50, 140, 90), outline = \"#FFFFFF\", fill = (0, 0, 0))\n",
    "#좌표는 동그라미의 왼쪽 위, 오른쪽 아래 점 (x1, y1, x2, y2)\n",
    "joystick.disp.image(my_image)"
   ]
  },
  {
   "cell_type": "markdown",
   "metadata": {},
   "source": [
    "## 캐릭터 만들기"
   ]
  },
  {
   "cell_type": "markdown",
   "metadata": {},
   "source": [
    "간단한 모양(네모, 동그라미, ..)을 가지고 조종할 수 있는 캐릭터를 만들어보기\n",
    "- 기능 -> 움직이기, 움직일때는 빨간 테두리를, 가만히 있을 때는 하얀 테두리를 가지게 할 것"
   ]
  },
  {
   "cell_type": "code",
   "execution_count": 9,
   "metadata": {},
   "outputs": [],
   "source": [
    "import numpy as np\n",
    "class Character:\n",
    "    def __init__(self, width, height):\n",
    "        self.appearance = 'circle'\n",
    "        self.state = None\n",
    "        self.position = np.array([width/2 - 20, height/2 - 20, width/2 + 20, height/2 + 20])\n",
    "        self.outline = \"#FFFFFF\"\n",
    "\n",
    "    def move(self, command = None):\n",
    "        if command == None:\n",
    "            self.state = None\n",
    "            self.outline = \"#FFFFFF\" #검정색상 코드!\n",
    "        \n",
    "        else:\n",
    "            self.state = 'move'\n",
    "            self.outline = \"#FF0000\" #빨강색상 코드!\n",
    "\n",
    "            if command == 'up_pressed':\n",
    "                self.position[1] -= 5\n",
    "                self.position[3] -= 5\n",
    "\n",
    "            elif command == 'down_pressed':\n",
    "                self.position[1] += 5\n",
    "                self.position[3] += 5\n",
    "\n",
    "            elif command == 'left_pressed':\n",
    "                self.position[0] -= 5\n",
    "                self.position[2] -= 5\n",
    "                \n",
    "            elif command == 'right_pressed':\n",
    "                self.position[0] += 5\n",
    "                self.position[2] += 5"
   ]
  },
  {
   "cell_type": "code",
   "execution_count": 10,
   "metadata": {},
   "outputs": [
    {
     "ename": "KeyboardInterrupt",
     "evalue": "",
     "output_type": "error",
     "traceback": [
      "\u001b[0;31m---------------------------------------------------------------------------\u001b[0m",
      "\u001b[0;31mKeyboardInterrupt\u001b[0m                         Traceback (most recent call last)",
      "Cell \u001b[0;32mIn [10], line 24\u001b[0m\n\u001b[1;32m     22\u001b[0m     my_draw\u001b[38;5;241m.\u001b[39mellipse(\u001b[38;5;28mtuple\u001b[39m(my_circle\u001b[38;5;241m.\u001b[39mposition), outline \u001b[38;5;241m=\u001b[39m my_circle\u001b[38;5;241m.\u001b[39moutline, fill \u001b[38;5;241m=\u001b[39m (\u001b[38;5;241m0\u001b[39m, \u001b[38;5;241m0\u001b[39m, \u001b[38;5;241m0\u001b[39m))\n\u001b[1;32m     23\u001b[0m \u001b[38;5;66;03m#좌표는 동그라미의 왼쪽 위, 오른쪽 아래 점 (x1, y1, x2, y2)\u001b[39;00m\n\u001b[0;32m---> 24\u001b[0m     \u001b[43mjoystick\u001b[49m\u001b[38;5;241;43m.\u001b[39;49m\u001b[43mdisp\u001b[49m\u001b[38;5;241;43m.\u001b[39;49m\u001b[43mimage\u001b[49m\u001b[43m(\u001b[49m\u001b[43mmy_image\u001b[49m\u001b[43m)\u001b[49m\n",
      "File \u001b[0;32m/usr/local/lib/python3.9/dist-packages/adafruit_rgb_display/rgb.py:197\u001b[0m, in \u001b[0;36mDisplay.image\u001b[0;34m(self, img, rotation, x, y)\u001b[0m\n\u001b[1;32m    <a href='file:///usr/local/lib/python3.9/dist-packages/adafruit_rgb_display/rgb.py?line=194'>195</a>\u001b[0m             pixels[\u001b[39m2\u001b[39m \u001b[39m*\u001b[39m (j \u001b[39m*\u001b[39m imwidth \u001b[39m+\u001b[39m i)] \u001b[39m=\u001b[39m pix \u001b[39m>>\u001b[39m \u001b[39m8\u001b[39m\n\u001b[1;32m    <a href='file:///usr/local/lib/python3.9/dist-packages/adafruit_rgb_display/rgb.py?line=195'>196</a>\u001b[0m             pixels[\u001b[39m2\u001b[39m \u001b[39m*\u001b[39m (j \u001b[39m*\u001b[39m imwidth \u001b[39m+\u001b[39m i) \u001b[39m+\u001b[39m \u001b[39m1\u001b[39m] \u001b[39m=\u001b[39m pix \u001b[39m&\u001b[39m \u001b[39m0xFF\u001b[39m\n\u001b[0;32m--> <a href='file:///usr/local/lib/python3.9/dist-packages/adafruit_rgb_display/rgb.py?line=196'>197</a>\u001b[0m \u001b[39mself\u001b[39;49m\u001b[39m.\u001b[39;49m_block(x, y, x \u001b[39m+\u001b[39;49m imwidth \u001b[39m-\u001b[39;49m \u001b[39m1\u001b[39;49m, y \u001b[39m+\u001b[39;49m imheight \u001b[39m-\u001b[39;49m \u001b[39m1\u001b[39;49m, pixels)\n",
      "File \u001b[0;32m/usr/local/lib/python3.9/dist-packages/adafruit_rgb_display/rgb.py:142\u001b[0m, in \u001b[0;36mDisplay._block\u001b[0;34m(self, x0, y0, x1, y1, data)\u001b[0m\n\u001b[1;32m    <a href='file:///usr/local/lib/python3.9/dist-packages/adafruit_rgb_display/rgb.py?line=139'>140</a>\u001b[0m     size \u001b[39m=\u001b[39m struct\u001b[39m.\u001b[39mcalcsize(\u001b[39mself\u001b[39m\u001b[39m.\u001b[39m_DECODE_PIXEL)\n\u001b[1;32m    <a href='file:///usr/local/lib/python3.9/dist-packages/adafruit_rgb_display/rgb.py?line=140'>141</a>\u001b[0m     \u001b[39mreturn\u001b[39;00m \u001b[39mself\u001b[39m\u001b[39m.\u001b[39mread(\u001b[39mself\u001b[39m\u001b[39m.\u001b[39m_RAM_READ, (x1 \u001b[39m-\u001b[39m x0 \u001b[39m+\u001b[39m \u001b[39m1\u001b[39m) \u001b[39m*\u001b[39m (y1 \u001b[39m-\u001b[39m y0 \u001b[39m+\u001b[39m \u001b[39m1\u001b[39m) \u001b[39m*\u001b[39m size)\n\u001b[0;32m--> <a href='file:///usr/local/lib/python3.9/dist-packages/adafruit_rgb_display/rgb.py?line=141'>142</a>\u001b[0m \u001b[39mself\u001b[39;49m\u001b[39m.\u001b[39;49mwrite(\u001b[39mself\u001b[39;49m\u001b[39m.\u001b[39;49m_RAM_WRITE, data)\n\u001b[1;32m    <a href='file:///usr/local/lib/python3.9/dist-packages/adafruit_rgb_display/rgb.py?line=142'>143</a>\u001b[0m \u001b[39mreturn\u001b[39;00m \u001b[39mNone\u001b[39;00m\n",
      "File \u001b[0;32m/usr/local/lib/python3.9/dist-packages/adafruit_rgb_display/rgb.py:294\u001b[0m, in \u001b[0;36mDisplaySPI.write\u001b[0;34m(self, command, data)\u001b[0m\n\u001b[1;32m    <a href='file:///usr/local/lib/python3.9/dist-packages/adafruit_rgb_display/rgb.py?line=291'>292</a>\u001b[0m \u001b[39mself\u001b[39m\u001b[39m.\u001b[39mdc_pin\u001b[39m.\u001b[39mvalue \u001b[39m=\u001b[39m \u001b[39m1\u001b[39m\n\u001b[1;32m    <a href='file:///usr/local/lib/python3.9/dist-packages/adafruit_rgb_display/rgb.py?line=292'>293</a>\u001b[0m \u001b[39mwith\u001b[39;00m \u001b[39mself\u001b[39m\u001b[39m.\u001b[39mspi_device \u001b[39mas\u001b[39;00m spi:\n\u001b[0;32m--> <a href='file:///usr/local/lib/python3.9/dist-packages/adafruit_rgb_display/rgb.py?line=293'>294</a>\u001b[0m     spi\u001b[39m.\u001b[39;49mwrite(data)\n",
      "File \u001b[0;32m/usr/local/lib/python3.9/dist-packages/busio.py:386\u001b[0m, in \u001b[0;36mSPI.write\u001b[0;34m(self, buf, start, end)\u001b[0m\n\u001b[1;32m    <a href='file:///usr/local/lib/python3.9/dist-packages/busio.py?line=383'>384</a>\u001b[0m \u001b[39mdef\u001b[39;00m \u001b[39mwrite\u001b[39m(\u001b[39mself\u001b[39m, buf, start\u001b[39m=\u001b[39m\u001b[39m0\u001b[39m, end\u001b[39m=\u001b[39m\u001b[39mNone\u001b[39;00m):\n\u001b[1;32m    <a href='file:///usr/local/lib/python3.9/dist-packages/busio.py?line=384'>385</a>\u001b[0m     \u001b[39m\"\"\"Write to the SPI device\"\"\"\u001b[39;00m\n\u001b[0;32m--> <a href='file:///usr/local/lib/python3.9/dist-packages/busio.py?line=385'>386</a>\u001b[0m     \u001b[39mreturn\u001b[39;00m \u001b[39mself\u001b[39;49m\u001b[39m.\u001b[39;49m_spi\u001b[39m.\u001b[39;49mwrite(buf, start, end)\n",
      "File \u001b[0;32m/usr/local/lib/python3.9/dist-packages/adafruit_blinka/microcontroller/generic_linux/spi.py:86\u001b[0m, in \u001b[0;36mSPI.write\u001b[0;34m(self, buf, start, end)\u001b[0m\n\u001b[1;32m     <a href='file:///usr/local/lib/python3.9/dist-packages/adafruit_blinka/microcontroller/generic_linux/spi.py?line=83'>84</a>\u001b[0m     \u001b[39mself\u001b[39m\u001b[39m.\u001b[39m_spi\u001b[39m.\u001b[39mmode \u001b[39m=\u001b[39m \u001b[39mself\u001b[39m\u001b[39m.\u001b[39mmode\n\u001b[1;32m     <a href='file:///usr/local/lib/python3.9/dist-packages/adafruit_blinka/microcontroller/generic_linux/spi.py?line=84'>85</a>\u001b[0m     \u001b[39mself\u001b[39m\u001b[39m.\u001b[39m_spi\u001b[39m.\u001b[39mbits_per_word \u001b[39m=\u001b[39m \u001b[39mself\u001b[39m\u001b[39m.\u001b[39mbits\n\u001b[0;32m---> <a href='file:///usr/local/lib/python3.9/dist-packages/adafruit_blinka/microcontroller/generic_linux/spi.py?line=85'>86</a>\u001b[0m     \u001b[39mself\u001b[39;49m\u001b[39m.\u001b[39;49m_spi\u001b[39m.\u001b[39;49mwritebytes(buf[start:end])\n\u001b[1;32m     <a href='file:///usr/local/lib/python3.9/dist-packages/adafruit_blinka/microcontroller/generic_linux/spi.py?line=86'>87</a>\u001b[0m     \u001b[39m# self._spi.close()\u001b[39;00m\n\u001b[1;32m     <a href='file:///usr/local/lib/python3.9/dist-packages/adafruit_blinka/microcontroller/generic_linux/spi.py?line=87'>88</a>\u001b[0m \u001b[39mexcept\u001b[39;00m \u001b[39mFileNotFoundError\u001b[39;00m:\n",
      "File \u001b[0;32m/usr/local/lib/python3.9/dist-packages/Adafruit_PureIO/spi.py:370\u001b[0m, in \u001b[0;36mSPI.writebytes\u001b[0;34m(self, data, max_speed_hz, bits_per_word, delay)\u001b[0m\n\u001b[1;32m    <a href='file:///usr/local/lib/python3.9/dist-packages/Adafruit_PureIO/spi.py?line=355'>356</a>\u001b[0m spi_ioc_transfer \u001b[39m=\u001b[39m struct\u001b[39m.\u001b[39mpack(\n\u001b[1;32m    <a href='file:///usr/local/lib/python3.9/dist-packages/Adafruit_PureIO/spi.py?line=356'>357</a>\u001b[0m     SPI\u001b[39m.\u001b[39m_IOC_TRANSFER_FORMAT,\n\u001b[1;32m    <a href='file:///usr/local/lib/python3.9/dist-packages/Adafruit_PureIO/spi.py?line=357'>358</a>\u001b[0m     addressof(transmit_buffer),\n\u001b[0;32m   (...)\u001b[0m\n\u001b[1;32m    <a href='file:///usr/local/lib/python3.9/dist-packages/Adafruit_PureIO/spi.py?line=366'>367</a>\u001b[0m     \u001b[39m0\u001b[39m,\n\u001b[1;32m    <a href='file:///usr/local/lib/python3.9/dist-packages/Adafruit_PureIO/spi.py?line=367'>368</a>\u001b[0m )\n\u001b[1;32m    <a href='file:///usr/local/lib/python3.9/dist-packages/Adafruit_PureIO/spi.py?line=368'>369</a>\u001b[0m \u001b[39mtry\u001b[39;00m:\n\u001b[0;32m--> <a href='file:///usr/local/lib/python3.9/dist-packages/Adafruit_PureIO/spi.py?line=369'>370</a>\u001b[0m     ioctl(\u001b[39mself\u001b[39;49m\u001b[39m.\u001b[39;49mhandle, SPI\u001b[39m.\u001b[39;49m_IOC_MESSAGE, spi_ioc_transfer)\n\u001b[1;32m    <a href='file:///usr/local/lib/python3.9/dist-packages/Adafruit_PureIO/spi.py?line=370'>371</a>\u001b[0m \u001b[39mexcept\u001b[39;00m \u001b[39mTimeoutError\u001b[39;00m \u001b[39mas\u001b[39;00m e:\n\u001b[1;32m    <a href='file:///usr/local/lib/python3.9/dist-packages/Adafruit_PureIO/spi.py?line=371'>372</a>\u001b[0m     \u001b[39mraise\u001b[39;00m \u001b[39mException\u001b[39;00m(\n\u001b[1;32m    <a href='file:///usr/local/lib/python3.9/dist-packages/Adafruit_PureIO/spi.py?line=372'>373</a>\u001b[0m         \u001b[39m\"\u001b[39m\u001b[39mioctl timeout. Please try a different SPI frequency or less data.\u001b[39m\u001b[39m\"\u001b[39m\n\u001b[1;32m    <a href='file:///usr/local/lib/python3.9/dist-packages/Adafruit_PureIO/spi.py?line=373'>374</a>\u001b[0m     ) \u001b[39mfrom\u001b[39;00m \u001b[39me\u001b[39;00m\n",
      "\u001b[0;31mKeyboardInterrupt\u001b[0m: "
     ]
    }
   ],
   "source": [
    "my_circle = Character(joystick.width, joystick.height)\n",
    "my_draw.rectangle((0, 0, joystick.width, joystick.height), fill = (255, 255, 255, 100))\n",
    "while True:\n",
    "    command = None\n",
    "    if not joystick.button_U.value:  # up pressed\n",
    "        command = 'up_pressed'\n",
    "\n",
    "    elif not joystick.button_D.value:  # down pressed\n",
    "        command = 'down_pressed'\n",
    "\n",
    "    elif not joystick.button_L.value:  # left pressed\n",
    "        command = 'left_pressed'\n",
    "\n",
    "    elif not joystick.button_R.value:  # right pressed\n",
    "        command = 'right_pressed'\n",
    "        \n",
    "    else:\n",
    "        command = None\n",
    "\n",
    "    my_circle.move(command)\n",
    "\n",
    "    my_draw.ellipse(tuple(my_circle.position), outline = my_circle.outline, fill = (0, 0, 0))\n",
    "#좌표는 동그라미의 왼쪽 위, 오른쪽 아래 점 (x1, y1, x2, y2)\n",
    "    joystick.disp.image(my_image)"
   ]
  },
  {
   "cell_type": "markdown",
   "metadata": {},
   "source": [
    "실행시켜보면 문제점이 무엇인가요?\n",
    "- 캐릭터가 움직이면서 잔상같은게 남습니다. 이유가 무엇인가요?\n",
    "- 이전에 그려졌던 circle이 사라지지 않음  \n",
    "-> 해결 방법 : 하얀색 도화지를 새로 깐다, 이전위치에 배경색과 똑같은 동그라미를 다시 그린다, 등등 .."
   ]
  },
  {
   "cell_type": "code",
   "execution_count": null,
   "metadata": {},
   "outputs": [],
   "source": [
    "# 잔상이 남지 않는 코드\n",
    "my_circle = Character(joystick.width, joystick.height)\n",
    "my_draw.rectangle((0, 0, joystick.width, joystick.height), fill = (255, 255, 255, 100))\n",
    "while True:\n",
    "    command = None\n",
    "    if not joystick.button_U.value:  # up pressed\n",
    "        command = 'up_pressed'\n",
    "\n",
    "    elif not joystick.button_D.value:  # down pressed\n",
    "        command = 'down_pressed'\n",
    "\n",
    "    elif not joystick.button_L.value:  # left pressed\n",
    "        command = 'left_pressed'\n",
    "\n",
    "    elif not joystick.button_R.value:  # right pressed\n",
    "        command = 'right_pressed'\n",
    "        \n",
    "    else:\n",
    "        command = None\n",
    "\n",
    "    my_circle.move(command)\n",
    "\n",
    "    #그리는 순서가 중요합니다. 배경을 먼저 깔고 위에 그림을 그리고 싶었는데 그림을 그려놓고 배경으로 덮는 결과로 될 수 있습니다.\n",
    "    my_draw.rectangle((0, 0, joystick.width, joystick.height), fill = (255, 255, 255, 100))\n",
    "    my_draw.ellipse(tuple(my_circle.position), outline = my_circle.outline, fill = (0, 0, 0))\n",
    "#좌표는 동그라미의 왼쪽 위, 오른쪽 아래 점 (x1, y1, x2, y2)\n",
    "    joystick.disp.image(my_image)"
   ]
  },
  {
   "cell_type": "markdown",
   "metadata": {},
   "source": [
    "또다른 문제는 무엇인가요?\n",
    "- 캐릭터가 대각선으로 움직이지 않습니다  \n",
    "-> 문제가 일어나는 곳을 파악하고, 스스로 해결해보세요😃"
   ]
  },
  {
   "cell_type": "markdown",
   "metadata": {},
   "source": [
    "jupyter notebook을 사용해서 돌려도 보고, .py 파일로 만들어 실행시켜보세요!"
   ]
  }
 ],
 "metadata": {
  "interpreter": {
   "hash": "e7370f93d1d0cde622a1f8e1c04877d8463912d04d973331ad4851f04de6915a"
  },
  "kernelspec": {
   "display_name": "Python 3.9.2 32-bit",
   "language": "python",
   "name": "python3"
  },
  "language_info": {
   "codemirror_mode": {
    "name": "ipython",
    "version": 3
   },
   "file_extension": ".py",
   "mimetype": "text/x-python",
   "name": "python",
   "nbconvert_exporter": "python",
   "pygments_lexer": "ipython3",
   "version": "3.9.2"
  },
  "orig_nbformat": 4,
  "vscode": {
   "interpreter": {
    "hash": "e7370f93d1d0cde622a1f8e1c04877d8463912d04d973331ad4851f04de6915a"
   }
  }
 },
 "nbformat": 4,
 "nbformat_minor": 2
}
